import pandas as pd
import numpy as np
import matplotlib.pyplot as plt
from rich import print
from rich.table import Table
from rich.console import Console

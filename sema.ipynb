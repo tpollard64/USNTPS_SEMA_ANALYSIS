# %% [markdown]
# # Run the imports once

# %%
import pandas as pd
import numpy as np
import matplotlib.pyplot as plt
from rich import print
from rich.table import Table
from rich.console import Console


# %% [markdown]
# # Run the setup code once

# %%
# Load Data
df = pd.read_excel("your file path here")

# Convert Run Number to numeric
df["RUNNO - Run Number"] = pd.to_numeric(df["RUNNO - Run Number"], errors='coerce')
df.dropna(subset=["RUNNO - Run Number"], inplace=True)
df["Run"] = np.floor(df["RUNNO - Run Number"] / 10).astype(int)

# Convert Time to numeric
df["Time"] = pd.to_numeric(df["Time"], errors='coerce')
df.dropna(subset=["Time"], inplace=True)

# Define relevant columns
sema_columns = [
    'LGSEMAPD - Long SEMA Position',
    'LTSEMAPD - Lateral SEMA Position',
    'YWSEMAPD - Yaw SEMA Position'
]
controls = ['MPEDALPCT - Monitored Pedal in'] # you may need to change this to match whatever you called you inch control postion column
kinematics = ['HEADHI - Heading Hi Rate', 'YAWRHI - Yaw Rate Hi Rate', 'NYD - NY Accelerometer']

# Convert relevant columns to numeric
df[sema_columns + controls + kinematics] = df[sema_columns + controls + kinematics].apply(pd.to_numeric, errors='coerce')

# %% [markdown]
# # Here is the code. Run this as needed.

# %%

# ----------------------
# 1) Filter Data
# ----------------------
selected_run2 = 46  # Change this to desired run number
time_start2, time_end2 = 6430, 6440  # Adjust time range or use (0, 100000) to see the whole run
df_run2 = df[(df["Run"] == selected_run2) & (df["Time"].between(time_start2, time_end2))].copy()  # Avoid SettingWithCopyWarning

# Define columns
sema_columns2 = ["YWSEMAPD - Yaw SEMA Position"]
controls2 = ["MPEDALPCT - Monitored Pedal in", "MLATSTKPCT - Monitored Latstk in"]
kinematics2 = ["HEADHI - Heading Hi Rate", "YAWRHI - Yaw Rate Hi Rate", "NYD - NY Accelerometer", "ROLLHI - Roll Attitude Hi Rate"]

# Convert to numeric
df_run2[sema_columns2] = df_run2[sema_columns2].apply(pd.to_numeric, errors='coerce')
df_run2[controls2] = df_run2[controls2].apply(pd.to_numeric, errors='coerce')
df_run2[kinematics2] = df_run2[kinematics2].apply(pd.to_numeric, errors='coerce')


# ----------------------
# 2) Compute Statistics
# ----------------------
sema_stats2 = df_run2[sema_columns2].agg(["max", "min", "mean"])

# Compute SEMA Rates Properly (ΔSEMA / ΔTime)
df_run2["Time_Diff"] = df_run2["Time"].diff()  # Time step differences
for col in sema_columns2:
    df_run2[f"{col}_Rate"] = df_run2[col].diff() / df_run2["Time_Diff"]  # Compute rate in mm/sec

# Compute Statistics for SEMA Rate
sema_rates2 = df_run2[[f"{col}_Rate" for col in sema_columns2]].agg(["max", "mean"])

# Compute Pedal Position Changes
pedal_changes2 = df_run2[controls2].agg(["max", "min", "mean"])
pedal_changes2.loc["difference"] = pedal_changes2.loc["max"] - pedal_changes2.loc["min"]

# Compute Kinematics Statistics
kinematics_stats2 = df_run2[kinematics2].agg(["max", "min", "mean"])

# ----------------------
# 3) Display Tables
# ----------------------

def display_table(title, data, unit):
    """Displays a Rich table with formatted values."""
    table = Table(title=title, show_header=True, header_style="bold cyan")
    table.add_column("Metric", justify="left", style="bold magenta")
    
    for col in data.columns:
        table.add_column(col, justify="center")

    for idx, row in data.iterrows():
        table.add_row(idx, *[f"{val:.4f} {unit}" for val in row])

    console.print(table)

display_table("SEMA Position Statistics (mm)", sema_stats2, "mm")
display_table("SEMA Rate Statistics (mm/sec)", sema_rates2, "mm/sec")
display_table("Pedal Position Changes (in)", pedal_changes2, "in")
display_table("Kinematics Statistics", kinematics_stats2, "")

# ----------------------
# 4) Plot Data
# ----------------------

fig2, axes2 = plt.subplots(3, 1, figsize=(12, 10), sharex=True)

# --- Plot Yaw SEMA Position & Rate ---
col2 = "YWSEMAPD - Yaw SEMA Position"
axes2[0].plot(df_run2["Time"], df_run2[col2], label=f"{col2} (mm)", color='blue')
axes2[0].plot(df_run2["Time"], df_run2[f"{col2}_Rate"], label=f"{col2} Rate (mm/sec)", linestyle='dashed', color='red')
axes2[0].set_title(f'{col2} Over Time')
axes2[0].set_ylabel("Value (mm / mm/sec)")
axes2[0].legend()

# --- Plot Lateral Stick Position ---
axes2[1].plot(df_run2["Time"], df_run2["MLATSTKPCT - Monitored Latstk in"], 
             label="Monitored Latstk (in)", linestyle='dotted', color='green')
axes2[1].set_title("Lateral Stick Position Over Time")
axes2[1].set_ylabel("Value (in)")
axes2[1].legend()

# --- Plot Pedal Position ---
axes2[2].plot(df_run2["Time"], df_run2["MPEDALPCT - Monitored Pedal in"], 
             label="Monitored Pedal (in)", linestyle='dashdot', color='purple')
axes2[2].set_title("Pedal Position Over Time")
axes2[2].set_xlabel("Time (s)")
axes2[2].set_ylabel("Value (in)")
axes2[2].legend()

plt.tight_layout()
plt.show()


